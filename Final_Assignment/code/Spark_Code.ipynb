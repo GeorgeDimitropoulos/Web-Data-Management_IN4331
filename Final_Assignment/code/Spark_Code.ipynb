{
 "cells": [
  {
   "cell_type": "code",
   "execution_count": null,
   "metadata": {},
   "outputs": [],
   "source": [
    "import pyspark\n",
    "sc = pyspark.SparkContext('local[*]')"
   ]
  },
  {
   "cell_type": "code",
   "execution_count": null,
   "metadata": {},
   "outputs": [],
   "source": [
    "import warnings\n",
    "warnings.filterwarnings(\"ignore\")\n"
   ]
  },
  {
   "cell_type": "code",
   "execution_count": null,
   "metadata": {},
   "outputs": [],
   "source": [
    "from pyspark.sql import SQLContext\n",
    "sqlContext = SQLContext(sc)"
   ]
  },
  {
   "cell_type": "code",
   "execution_count": null,
   "metadata": {},
   "outputs": [],
   "source": [
    "example2_df = sqlContext.read.csv(\"cast_info.csv\")"
   ]
  },
  {
   "cell_type": "code",
   "execution_count": null,
   "metadata": {},
   "outputs": [],
   "source": [
    "example2_df.head(10)"
   ]
  },
  {
   "cell_type": "code",
   "execution_count": null,
   "metadata": {},
   "outputs": [],
   "source": [
    "example2_df"
   ]
  },
  {
   "cell_type": "code",
   "execution_count": null,
   "metadata": {},
   "outputs": [],
   "source": [
    "print (example2_df.printSchema())"
   ]
  },
  {
   "cell_type": "code",
   "execution_count": null,
   "metadata": {},
   "outputs": [],
   "source": [
    "example2_df.registerTempTable(\"cast_info\")"
   ]
  },
  {
   "cell_type": "code",
   "execution_count": null,
   "metadata": {},
   "outputs": [],
   "source": [
    "example3_df = sqlContext.read.csv(\"movie_companies.csv\")"
   ]
  },
  {
   "cell_type": "code",
   "execution_count": null,
   "metadata": {},
   "outputs": [],
   "source": [
    "example3_df.head(10)"
   ]
  },
  {
   "cell_type": "code",
   "execution_count": null,
   "metadata": {},
   "outputs": [],
   "source": [
    "example3_df"
   ]
  },
  {
   "cell_type": "code",
   "execution_count": null,
   "metadata": {},
   "outputs": [],
   "source": [
    "print (example3_df.printSchema())"
   ]
  },
  {
   "cell_type": "code",
   "execution_count": null,
   "metadata": {},
   "outputs": [],
   "source": [
    "example3_df.registerTempTable(\"movie_companies\")"
   ]
  },
  {
   "cell_type": "code",
   "execution_count": null,
   "metadata": {},
   "outputs": [],
   "source": [
    "example4_df = sqlContext.read.csv(\"title.csv\")"
   ]
  },
  {
   "cell_type": "code",
   "execution_count": null,
   "metadata": {},
   "outputs": [],
   "source": [
    "example4_df.head(10)"
   ]
  },
  {
   "cell_type": "code",
   "execution_count": null,
   "metadata": {},
   "outputs": [],
   "source": [
    "example4_df"
   ]
  },
  {
   "cell_type": "code",
   "execution_count": null,
   "metadata": {},
   "outputs": [],
   "source": [
    "print (example4_df.printSchema())"
   ]
  },
  {
   "cell_type": "code",
   "execution_count": null,
   "metadata": {},
   "outputs": [],
   "source": [
    "example4_df.registerTempTable(\"title\")"
   ]
  },
  {
   "cell_type": "code",
   "execution_count": null,
   "metadata": {},
   "outputs": [],
   "source": [
    "#Number of companies who have produced films with love in the title"
   ]
  },
  {
   "cell_type": "code",
   "execution_count": null,
   "metadata": {},
   "outputs": [],
   "source": [
    "%%time\n",
    "from pyspark.sql.functions import count\n",
    "query = \"\"\"\n",
    "select\n",
    "    count(movie_companies._c2)\n",
    "from\n",
    "    movie_companies\n",
    "inner join title on\n",
    "    movie_companies._c1=title._c0\n",
    "    \n",
    "where title._c1 like '% love%'\n",
    "\"\"\"\n",
    "love=(sqlContext.sql(query).toPandas())"
   ]
  },
  {
   "cell_type": "code",
   "execution_count": null,
   "metadata": {},
   "outputs": [],
   "source": [
    "love.columns = ['Count']\n",
    "love"
   ]
  },
  {
   "cell_type": "code",
   "execution_count": null,
   "metadata": {},
   "outputs": [],
   "source": [
    "example5_df = sqlContext.read.csv(\"movie_info.csv\")"
   ]
  },
  {
   "cell_type": "code",
   "execution_count": null,
   "metadata": {},
   "outputs": [],
   "source": [
    "example5_df.head(10)"
   ]
  },
  {
   "cell_type": "code",
   "execution_count": null,
   "metadata": {},
   "outputs": [],
   "source": [
    "example5_df"
   ]
  },
  {
   "cell_type": "code",
   "execution_count": null,
   "metadata": {},
   "outputs": [],
   "source": [
    "print (example5_df.printSchema())"
   ]
  },
  {
   "cell_type": "code",
   "execution_count": null,
   "metadata": {},
   "outputs": [],
   "source": [
    "example5_df.registerTempTable(\"movie_info\")"
   ]
  },
  {
   "cell_type": "code",
   "execution_count": null,
   "metadata": {},
   "outputs": [],
   "source": [
    "#The titles of the 1000 more successful movies from 1990-2000"
   ]
  },
  {
   "cell_type": "code",
   "execution_count": null,
   "metadata": {},
   "outputs": [],
   "source": [
    "%%time\n",
    "from pyspark.sql.functions import count\n",
    "query = \"\"\"\n",
    "select\n",
    "    title._c1\n",
    "from\n",
    "    movie_info\n",
    "inner join title on\n",
    "    movie_info._c1=title._c0\n",
    "where title._c4>=1990 and title._c4<=2000 order by (movie_info._c6-movie_info._c7) DESC limit 1000\n",
    "\"\"\"\n",
    "title1000=(sqlContext.sql(query).toPandas())"
   ]
  },
  {
   "cell_type": "code",
   "execution_count": null,
   "metadata": {},
   "outputs": [],
   "source": [
    "title1000.columns = ['Movie Title']\n",
    "title1000"
   ]
  },
  {
   "cell_type": "code",
   "execution_count": null,
   "metadata": {},
   "outputs": [],
   "source": [
    "example6_df = sqlContext.read.csv(\"person.csv\")"
   ]
  },
  {
   "cell_type": "code",
   "execution_count": null,
   "metadata": {},
   "outputs": [],
   "source": [
    "example7_df = sqlContext.read.csv(\"aka_name.csv\")"
   ]
  },
  {
   "cell_type": "code",
   "execution_count": null,
   "metadata": {},
   "outputs": [],
   "source": [
    "example7_df.head(10)"
   ]
  },
  {
   "cell_type": "code",
   "execution_count": null,
   "metadata": {},
   "outputs": [],
   "source": [
    "example6_df.head(10)"
   ]
  },
  {
   "cell_type": "code",
   "execution_count": null,
   "metadata": {},
   "outputs": [],
   "source": [
    "example6_df"
   ]
  },
  {
   "cell_type": "code",
   "execution_count": null,
   "metadata": {},
   "outputs": [],
   "source": [
    "example7_df"
   ]
  },
  {
   "cell_type": "code",
   "execution_count": null,
   "metadata": {},
   "outputs": [],
   "source": [
    "example6_df.registerTempTable(\"person\")"
   ]
  },
  {
   "cell_type": "code",
   "execution_count": null,
   "metadata": {},
   "outputs": [],
   "source": [
    "example7_df.registerTempTable(\"aka_name\")"
   ]
  },
  {
   "cell_type": "code",
   "execution_count": null,
   "metadata": {},
   "outputs": [],
   "source": [
    "example8_df = sqlContext.read.csv(\"movie_keyword.csv\")"
   ]
  },
  {
   "cell_type": "code",
   "execution_count": null,
   "metadata": {},
   "outputs": [],
   "source": [
    "example8_df.head(10)"
   ]
  },
  {
   "cell_type": "code",
   "execution_count": null,
   "metadata": {},
   "outputs": [],
   "source": [
    "example8_df"
   ]
  },
  {
   "cell_type": "code",
   "execution_count": null,
   "metadata": {},
   "outputs": [],
   "source": [
    "example8_df.registerTempTable(\"movie_keyword\")"
   ]
  },
  {
   "cell_type": "code",
   "execution_count": null,
   "metadata": {},
   "outputs": [],
   "source": [
    "example9_df = sqlContext.read.csv(\"keyword.csv\")"
   ]
  },
  {
   "cell_type": "code",
   "execution_count": null,
   "metadata": {},
   "outputs": [],
   "source": [
    "example9_df.head(10)"
   ]
  },
  {
   "cell_type": "code",
   "execution_count": null,
   "metadata": {},
   "outputs": [],
   "source": [
    "example9_df"
   ]
  },
  {
   "cell_type": "code",
   "execution_count": null,
   "metadata": {},
   "outputs": [],
   "source": [
    "example9_df.registerTempTable(\"keyword\")"
   ]
  },
  {
   "cell_type": "code",
   "execution_count": null,
   "metadata": {},
   "outputs": [],
   "source": [
    "#Title of each movie that has specific keyword(design) in the plot keywords list"
   ]
  },
  {
   "cell_type": "code",
   "execution_count": null,
   "metadata": {},
   "outputs": [],
   "source": [
    "%%time\n",
    "from pyspark.sql.functions import count\n",
    "query = \"\"\"\n",
    "select\n",
    "    title._c1\n",
    "from\n",
    "    title\n",
    "left join movie_keyword on\n",
    "    title._c0=movie_keyword._c1\n",
    "inner join keyword on\n",
    "    movie_keyword._c2=keyword._c0\n",
    "where keyword._c1 like '%design%'\n",
    "\"\"\"\n",
    "titlescounts=(sqlContext.sql(query).toPandas())"
   ]
  },
  {
   "cell_type": "code",
   "execution_count": null,
   "metadata": {},
   "outputs": [],
   "source": [
    "titlescounts.columns = ['Movie Title']\n",
    "titlescounts"
   ]
  },
  {
   "cell_type": "code",
   "execution_count": null,
   "metadata": {},
   "outputs": [],
   "source": [
    "#Ratio of likes of a specific actor to those of the cast"
   ]
  },
  {
   "cell_type": "code",
   "execution_count": null,
   "metadata": {},
   "outputs": [],
   "source": [
    "%%time\n",
    "query = \"\"\"\n",
    "select\n",
    "    aka_name._c7, cast_info._c7\n",
    "from\n",
    "    cast_info\n",
    "inner join aka_name on\n",
    "    cast_info._c1=aka_name._c1\n",
    "where aka_name._c2 like '%Hanks%Tom'\n",
    "\"\"\"\n",
    "data_likes=sqlContext.sql(query).toPandas()"
   ]
  },
  {
   "cell_type": "code",
   "execution_count": null,
   "metadata": {},
   "outputs": [],
   "source": [
    "data_likes"
   ]
  },
  {
   "cell_type": "code",
   "execution_count": null,
   "metadata": {},
   "outputs": [],
   "source": [
    "data_likes.columns = ['Actor_Like', 'Cast_Like']"
   ]
  },
  {
   "cell_type": "code",
   "execution_count": null,
   "metadata": {},
   "outputs": [],
   "source": [
    "frame1=data_likes\n",
    "frame1"
   ]
  },
  {
   "cell_type": "code",
   "execution_count": null,
   "metadata": {},
   "outputs": [],
   "source": [
    "s=data_likes.values"
   ]
  },
  {
   "cell_type": "code",
   "execution_count": null,
   "metadata": {},
   "outputs": [],
   "source": [
    "import pandas as pd\n",
    "data_likes.apply(pd.to_numeric)\n",
    "s=data_likes.values\n",
    "a=s.astype(int)"
   ]
  },
  {
   "cell_type": "code",
   "execution_count": null,
   "metadata": {},
   "outputs": [],
   "source": [
    "ratio_likes=[]\n",
    "for i in range(a.shape[0]):\n",
    "    ratio_likes.append(a[0][0]/a[i][1])\n",
    "ratio_likes   "
   ]
  },
  {
   "cell_type": "code",
   "execution_count": null,
   "metadata": {},
   "outputs": [],
   "source": [
    "import numpy as np\n",
    "df = pd.DataFrame(np.array(ratio_likes).reshape(91,1), columns = list(\"a\"))\n",
    "df.columns=['ratio likes']\n",
    "df"
   ]
  },
  {
   "cell_type": "code",
   "execution_count": null,
   "metadata": {},
   "outputs": [],
   "source": [
    "df_new = pd.concat([frame1, df],axis=1)"
   ]
  },
  {
   "cell_type": "code",
   "execution_count": null,
   "metadata": {},
   "outputs": [],
   "source": [
    "df_new"
   ]
  },
  {
   "cell_type": "code",
   "execution_count": null,
   "metadata": {},
   "outputs": [],
   "source": [
    "example10_df = sqlContext.read.csv(\"company_name.csv\")"
   ]
  },
  {
   "cell_type": "code",
   "execution_count": null,
   "metadata": {},
   "outputs": [],
   "source": [
    "example10_df.head(10)"
   ]
  },
  {
   "cell_type": "code",
   "execution_count": null,
   "metadata": {},
   "outputs": [],
   "source": [
    "example10_df"
   ]
  },
  {
   "cell_type": "code",
   "execution_count": null,
   "metadata": {},
   "outputs": [],
   "source": [
    "example10_df.registerTempTable(\"company_name\")"
   ]
  },
  {
   "cell_type": "code",
   "execution_count": null,
   "metadata": {},
   "outputs": [],
   "source": [
    "#Sum of movie gross of the movies produced by Amazon for different production years"
   ]
  },
  {
   "cell_type": "code",
   "execution_count": null,
   "metadata": {},
   "outputs": [],
   "source": [
    "%%time\n",
    "from pyspark.sql.functions import sum\n",
    "query = \"\"\"\n",
    "select\n",
    "    sum(movie_info._c6), title._c4\n",
    "from\n",
    "    movie_info\n",
    "inner join title on\n",
    "    movie_info._c1=title._c0\n",
    "inner join movie_companies on\n",
    "    title._c0=movie_companies._c1\n",
    "inner join company_name on\n",
    "    movie_companies._c2=company_name._c0\n",
    "where company_name._c1='Amazon' group by (title._c4) order by (title._c4) ASC\n",
    "\"\"\"\n",
    "plot_movie_gross=(sqlContext.sql(query).toPandas())"
   ]
  },
  {
   "cell_type": "code",
   "execution_count": null,
   "metadata": {},
   "outputs": [],
   "source": [
    "plot_movie_gross.columns = ['Cumulative Gross (x10^8) per Year', 'Production Year']\n",
    "plot_movie_gross"
   ]
  },
  {
   "cell_type": "code",
   "execution_count": null,
   "metadata": {},
   "outputs": [],
   "source": [
    "import matplotlib.pyplot as plt\n",
    "plot_movie_gross.plot(x='Production Year', y='Cumulative Gross (x10^8) per Year',kind='bar', figsize=(12, 5),legend=False)\n",
    "plt.ylabel('Cumulative Gross (x10^8) per Year')\n",
    "plt.xlabel('Production Year')"
   ]
  },
  {
   "cell_type": "code",
   "execution_count": null,
   "metadata": {},
   "outputs": [],
   "source": [
    "#Average of movie budget spent by Paramount Television for different production years"
   ]
  },
  {
   "cell_type": "code",
   "execution_count": null,
   "metadata": {},
   "outputs": [],
   "source": [
    "%%time\n",
    "query = \"\"\"\n",
    "select\n",
    "    avg(movie_info._c7), title._c4\n",
    "from\n",
    "    movie_info\n",
    "inner join title on\n",
    "    movie_info._c1=title._c0\n",
    "inner join movie_companies on\n",
    "    title._c0=movie_companies._c1\n",
    "inner join company_name on\n",
    "    movie_companies._c2=company_name._c0\n",
    "where company_name._c1='Paramount Television' group by (title._c4) order by (title._c4) ASC\n",
    "\"\"\"\n",
    "plot_average_budget=(sqlContext.sql(query).toPandas())"
   ]
  },
  {
   "cell_type": "code",
   "execution_count": null,
   "metadata": {},
   "outputs": [],
   "source": [
    "plot_average_budget.columns = ['Average Budget (x10^7) per Year for the Paramount Television Company', 'Production Year']\n",
    "plot_average_budget"
   ]
  },
  {
   "cell_type": "code",
   "execution_count": null,
   "metadata": {},
   "outputs": [],
   "source": [
    "import matplotlib.pyplot as plt\n",
    "plot_average_budget.plot(x='Production Year', y='Average Budget (x10^7) per Year for the Paramount Television Company',kind='bar', figsize=(12, 5),legend=False)\n",
    "plt.ylabel('Average Budget (x10^7) per Year for the Paramount Television Company')\n",
    "plt.xlabel('Production Year')"
   ]
  },
  {
   "cell_type": "code",
   "execution_count": null,
   "metadata": {},
   "outputs": [],
   "source": [
    "example11_df = sqlContext.read.csv(\"char_name.csv\")"
   ]
  },
  {
   "cell_type": "code",
   "execution_count": null,
   "metadata": {},
   "outputs": [],
   "source": [
    "example11_df.head(10)"
   ]
  },
  {
   "cell_type": "code",
   "execution_count": null,
   "metadata": {},
   "outputs": [],
   "source": [
    "example11_df"
   ]
  },
  {
   "cell_type": "code",
   "execution_count": null,
   "metadata": {},
   "outputs": [],
   "source": [
    "example11_df.registerTempTable(\"char_name\")"
   ]
  },
  {
   "cell_type": "code",
   "execution_count": null,
   "metadata": {},
   "outputs": [],
   "source": [
    "example12_df = sqlContext.read.csv(\"kind_type.csv\")"
   ]
  },
  {
   "cell_type": "code",
   "execution_count": null,
   "metadata": {},
   "outputs": [],
   "source": [
    "example12_df.head(10)"
   ]
  },
  {
   "cell_type": "code",
   "execution_count": null,
   "metadata": {},
   "outputs": [],
   "source": [
    "example12_df"
   ]
  },
  {
   "cell_type": "code",
   "execution_count": null,
   "metadata": {},
   "outputs": [],
   "source": [
    "example12_df.registerTempTable(\"kind_type\")"
   ]
  },
  {
   "cell_type": "code",
   "execution_count": null,
   "metadata": {},
   "outputs": [],
   "source": [
    "example13_df = sqlContext.read.csv(\"role_type.csv\")"
   ]
  },
  {
   "cell_type": "code",
   "execution_count": null,
   "metadata": {},
   "outputs": [],
   "source": [
    "example13_df.head(10)"
   ]
  },
  {
   "cell_type": "code",
   "execution_count": null,
   "metadata": {},
   "outputs": [],
   "source": [
    "example13_df.registerTempTable(\"role_type\")"
   ]
  },
  {
   "cell_type": "code",
   "execution_count": null,
   "metadata": {},
   "outputs": [],
   "source": [
    "#Count of times the character name \"Harry\" appears in all the tv series of the database"
   ]
  },
  {
   "cell_type": "code",
   "execution_count": null,
   "metadata": {},
   "outputs": [],
   "source": [
    "%%time\n",
    "query = \"\"\"\n",
    "select\n",
    "    count(char_name._c0), title._c1\n",
    "from\n",
    "    char_name\n",
    "inner join cast_info on\n",
    "    char_name._c0=cast_info._c3\n",
    "inner join movie_info on\n",
    "    cast_info._c2=movie_info._c1\n",
    "inner join title on\n",
    "    movie_info._c1=title._c0\n",
    "inner join kind_type on\n",
    "    title._c3=kind_type._c0    \n",
    "where char_name._c1 like '%Harry%' and kind_type._c1='tv series' group by(title._c1)\n",
    "\"\"\"\n",
    "count_name_appears=(sqlContext.sql(query).toPandas())"
   ]
  },
  {
   "cell_type": "code",
   "execution_count": null,
   "metadata": {},
   "outputs": [],
   "source": [
    "count_name_appears.columns = ['Number of times a character name (\"Harry\") appears in all tv series', 'Tv Series Name']\n",
    "count_name_appears"
   ]
  },
  {
   "cell_type": "code",
   "execution_count": null,
   "metadata": {},
   "outputs": [],
   "source": [
    "top50=count_name_appears[0:50]\n",
    "import matplotlib.pyplot as plt\n",
    "top50.plot(x='Tv Series Name', y='Number of times a character name (\"Harry\") appears in all tv series',kind='bar', figsize=(12, 5),legend=False)\n",
    "plt.ylabel('Number of times a character name (\"Harry\") appears in all tv series')\n",
    "plt.xlabel('Tv Series Name')"
   ]
  },
  {
   "cell_type": "code",
   "execution_count": null,
   "metadata": {},
   "outputs": [],
   "source": [
    "#Return the count of times the word keyword kill appears in the titles:"
   ]
  },
  {
   "cell_type": "code",
   "execution_count": null,
   "metadata": {},
   "outputs": [],
   "source": [
    "%%time\n",
    "query = \"\"\"\n",
    "select\n",
    "    count(keyword._c0)\n",
    "from\n",
    "    keyword\n",
    "where keyword._c1 like '%kill%'\n",
    "\"\"\"\n",
    "count_of_times=(sqlContext.sql(query).toPandas())"
   ]
  },
  {
   "cell_type": "code",
   "execution_count": null,
   "metadata": {},
   "outputs": [],
   "source": [
    "count_of_times.columns = ['Count']\n",
    "count_of_times"
   ]
  },
  {
   "cell_type": "code",
   "execution_count": null,
   "metadata": {},
   "outputs": [],
   "source": [
    "#Return the id of keyword table where keyword is equal to \"kill\" or phonetic code is equal to \"a2525\":"
   ]
  },
  {
   "cell_type": "code",
   "execution_count": null,
   "metadata": {},
   "outputs": [],
   "source": [
    "%%time\n",
    "query = \"\"\"\n",
    "select\n",
    "    keyword._c0\n",
    "from\n",
    "    keyword\n",
    "where keyword._c1 like '%kill%' or keyword._c2='A2525'\n",
    "\"\"\"\n",
    "phonetics=(sqlContext.sql(query).toPandas())"
   ]
  },
  {
   "cell_type": "code",
   "execution_count": null,
   "metadata": {},
   "outputs": [],
   "source": [
    "phonetics.columns = ['ID']\n",
    "phonetics"
   ]
  },
  {
   "cell_type": "code",
   "execution_count": null,
   "metadata": {},
   "outputs": [],
   "source": [
    "%%time\n",
    "query = \"\"\"\n",
    "select\n",
    "    count(keyword._c0)\n",
    "from\n",
    "    keyword\n",
    "where keyword._c1 like '%kill%' or keyword._c2='A2525'\n",
    "\"\"\"\n",
    "counterids=(sqlContext.sql(query).toPandas())"
   ]
  },
  {
   "cell_type": "code",
   "execution_count": null,
   "metadata": {},
   "outputs": [],
   "source": [
    "counterids.columns = ['Count']\n",
    "counterids"
   ]
  },
  {
   "cell_type": "code",
   "execution_count": null,
   "metadata": {},
   "outputs": [],
   "source": [
    "#Return number of tuples in table keywords where keyword field starts with kill"
   ]
  },
  {
   "cell_type": "code",
   "execution_count": null,
   "metadata": {},
   "outputs": [],
   "source": [
    "%%time\n",
    "query = \"\"\"\n",
    "select\n",
    "    count(keyword._c0)\n",
    "from\n",
    "    keyword\n",
    "where keyword._c1='kill%'\n",
    "\"\"\"\n",
    "counterkills=(sqlContext.sql(query).toPandas())"
   ]
  },
  {
   "cell_type": "code",
   "execution_count": null,
   "metadata": {},
   "outputs": [],
   "source": [
    "counterkills.columns = ['Count']\n",
    "counterkills"
   ]
  }
 ],
 "metadata": {
  "kernelspec": {
   "display_name": "Python 3",
   "language": "python",
   "name": "python3"
  },
  "language_info": {
   "codemirror_mode": {
    "name": "ipython",
    "version": 3
   },
   "file_extension": ".py",
   "mimetype": "text/x-python",
   "name": "python",
   "nbconvert_exporter": "python",
   "pygments_lexer": "ipython3",
   "version": "3.6.4"
  }
 },
 "nbformat": 4,
 "nbformat_minor": 2
}
